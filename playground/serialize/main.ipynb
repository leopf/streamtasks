{
 "cells": [
  {
   "cell_type": "code",
   "execution_count": 16,
   "metadata": {},
   "outputs": [
    {
     "name": "stdout",
     "output_type": "stream",
     "text": [
      "The autoreload extension is already loaded. To reload it, use:\n",
      "  %reload_ext autoreload\n"
     ]
    }
   ],
   "source": [
    "%load_ext autoreload\n",
    "%autoreload 2"
   ]
  },
  {
   "cell_type": "code",
   "execution_count": 17,
   "metadata": {},
   "outputs": [],
   "source": [
    "from streamtasks.comm.types import *\n",
    "import fastavro\n",
    "\n",
    "PricedIdSchema = fastavro.parse_schema({\n",
    "    \"type\": \"record\",\n",
    "    \"name\": \"PricedId\",\n",
    "    \"fields\": [\n",
    "        {\"name\": \"id\", \"type\": \"int\"},\n",
    "        {\"name\": \"cost\", \"type\": \"int\"}\n",
    "    ]\n",
    "})\n",
    "\n",
    "SCHEMA_ID_MAP = {\n",
    "    TopicDataMessage: 0,\n",
    "    TopicControlMessage: 1,\n",
    "    AddressedMessage: 2,\n",
    "    AddressesChangedMessage: 3,\n",
    "    InTopicsChangedMessage: 4,\n",
    "    OutTopicsChangedMessage: 5,\n",
    "}\n",
    "\n",
    "SCHEMA_MAP = {\n",
    "    0: fastavro.parse_schema({\n",
    "        \"type\": \"record\",\n",
    "        \"name\": \"TopicDataMessage\",\n",
    "        \"fields\": [\n",
    "            {\"name\": \"topic\", \"type\": \"int\"},\n",
    "            {\"name\": \"data\", \"type\": \"bytes\"}\n",
    "        ]\n",
    "    }),\n",
    "    1: fastavro.parse_schema({\n",
    "        \"type\": \"record\",\n",
    "        \"name\": \"TopicControlMessage\",\n",
    "        \"fields\": [\n",
    "            {\"name\": \"topic\", \"type\": \"int\"},\n",
    "            {\"name\": \"paused\", \"type\": \"boolean\"}\n",
    "        ]\n",
    "    }),\n",
    "    2: fastavro.parse_schema({\n",
    "        \"type\": \"record\",\n",
    "        \"name\": \"AddressedMessage\",\n",
    "        \"fields\": [\n",
    "            {\"name\": \"address\", \"type\": \"int\"},\n",
    "            {\"name\": \"data\", \"type\": \"bytes\"}\n",
    "        ]\n",
    "    }),\n",
    "    3: fastavro.parse_schema({\n",
    "        \"type\": \"record\",\n",
    "        \"name\": \"AddressesChangedMessage\",\n",
    "        \"fields\": [\n",
    "            {\"name\": \"add\", \"type\": {\"type\": \"array\", \"items\": PricedIdSchema}},\n",
    "            {\"name\": \"remove\", \"type\": {\"type\": \"array\", \"items\": \"int\"}}\n",
    "        ]\n",
    "    }),\n",
    "    4: fastavro.parse_schema({\n",
    "        \"type\": \"record\",\n",
    "        \"name\": \"InTopicsChangedMessage\",\n",
    "        \"fields\": [\n",
    "            {\"name\": \"add\", \"type\": {\"type\": \"array\", \"items\": \"int\"}},\n",
    "            {\"name\": \"remove\", \"type\": {\"type\": \"array\", \"items\": \"int\"}}\n",
    "        ]\n",
    "    }),\n",
    "    5: fastavro.parse_schema({\n",
    "        \"type\": \"record\",\n",
    "        \"name\": \"OutTopicsChangedMessage\",\n",
    "        \"fields\": [\n",
    "            {\"name\": \"add\", \"type\": {\"type\": \"array\", \"items\": PricedIdSchema}},\n",
    "            {\"name\": \"remove\", \"type\": {\"type\": \"array\", \"items\": \"int\"}}\n",
    "        ]\n",
    "    }),\n",
    "}"
   ]
  },
  {
   "cell_type": "code",
   "execution_count": 18,
   "metadata": {},
   "outputs": [
    {
     "data": {
      "text/plain": [
       "b'\\x00'"
      ]
     },
     "execution_count": 18,
     "metadata": {},
     "output_type": "execute_result"
    }
   ],
   "source": [
    "import struct\n",
    "\n",
    "struct.pack('<B', 0)"
   ]
  },
  {
   "cell_type": "code",
   "execution_count": 33,
   "metadata": {},
   "outputs": [],
   "source": [
    "from io import BytesIO\n",
    "\n",
    "def serialize_message(message: Message) -> bytes:\n",
    "    stream = BytesIO()\n",
    "    id = SCHEMA_ID_MAP[type(message)]\n",
    "    stream.write(struct.pack(\"<B\", id))\n",
    "    schema = SCHEMA_MAP[id]\n",
    "    fastavro.schemaless_writer(message, schema, stream)\n",
    "    return stream.getvalue()\n",
    "\n",
    "def deserialize_message(data: bytes) -> Message:\n",
    "    stream = BytesIO(data)\n",
    "    id = struct.unpack(\"<B\", stream.read(1))[0]\n",
    "    schema = SCHEMA_MAP[id]\n",
    "    return fastavro.schemaless_reader(stream, schema)"
   ]
  },
  {
   "cell_type": "code",
   "execution_count": 34,
   "metadata": {},
   "outputs": [
    {
     "ename": "ValueError",
     "evalue": "no value and no default for topic",
     "output_type": "error",
     "traceback": [
      "\u001b[0;31m---------------------------------------------------------------------------\u001b[0m",
      "\u001b[0;31mTypeError\u001b[0m                                 Traceback (most recent call last)",
      "File \u001b[0;32mfastavro/_write.pyx:363\u001b[0m, in \u001b[0;36mfastavro._write.write_record\u001b[0;34m()\u001b[0m\n",
      "\u001b[0;31mTypeError\u001b[0m: Expected dict, got _io.BytesIO",
      "\nDuring handling of the above exception, another exception occurred:\n",
      "\u001b[0;31mValueError\u001b[0m                                Traceback (most recent call last)",
      "Cell \u001b[0;32mIn[34], line 1\u001b[0m\n\u001b[0;32m----> 1\u001b[0m deserialize_message(serialize_message(TopicDataMessage(\u001b[39m1\u001b[39;49m, \u001b[39mb\u001b[39;49m\u001b[39m'\u001b[39;49m\u001b[39mhello\u001b[39;49m\u001b[39m'\u001b[39;49m)))\n",
      "Cell \u001b[0;32mIn[33], line 8\u001b[0m, in \u001b[0;36mserialize_message\u001b[0;34m(message)\u001b[0m\n\u001b[1;32m      6\u001b[0m stream\u001b[39m.\u001b[39mwrite(struct\u001b[39m.\u001b[39mpack(\u001b[39m\"\u001b[39m\u001b[39m<B\u001b[39m\u001b[39m\"\u001b[39m, \u001b[39mid\u001b[39m))\n\u001b[1;32m      7\u001b[0m schema \u001b[39m=\u001b[39m SCHEMA_MAP[\u001b[39mid\u001b[39m]\n\u001b[0;32m----> 8\u001b[0m fastavro\u001b[39m.\u001b[39;49mschemaless_writer(message, schema, stream)\n\u001b[1;32m      9\u001b[0m \u001b[39mreturn\u001b[39;00m stream\u001b[39m.\u001b[39mgetvalue()\n",
      "File \u001b[0;32mfastavro/_write.pyx:794\u001b[0m, in \u001b[0;36mfastavro._write.schemaless_writer\u001b[0;34m()\u001b[0m\n",
      "File \u001b[0;32mfastavro/_write.pyx:458\u001b[0m, in \u001b[0;36mfastavro._write.write_data\u001b[0;34m()\u001b[0m\n",
      "File \u001b[0;32mfastavro/_write.pyx:378\u001b[0m, in \u001b[0;36mfastavro._write.write_record\u001b[0;34m()\u001b[0m\n",
      "\u001b[0;31mValueError\u001b[0m: no value and no default for topic"
     ]
    }
   ],
   "source": [
    "deserialize_message(serialize_message(TopicDataMessage(1, b'hello')))"
   ]
  }
 ],
 "metadata": {
  "kernelspec": {
   "display_name": "streamtasks",
   "language": "python",
   "name": "python3"
  },
  "language_info": {
   "codemirror_mode": {
    "name": "ipython",
    "version": 3
   },
   "file_extension": ".py",
   "mimetype": "text/x-python",
   "name": "python",
   "nbconvert_exporter": "python",
   "pygments_lexer": "ipython3",
   "version": "3.11.0"
  },
  "orig_nbformat": 4
 },
 "nbformat": 4,
 "nbformat_minor": 2
}
