{
 "cells": [
  {
   "cell_type": "code",
   "execution_count": null,
   "metadata": {},
   "outputs": [],
   "source": [
    "%load_ext autoreload\n",
    "%autoreload 2"
   ]
  },
  {
   "cell_type": "code",
   "execution_count": 1,
   "metadata": {},
   "outputs": [],
   "source": [
    "import av\n",
    "from streamtasks.media.types import MediaPacket "
   ]
  },
  {
   "cell_type": "code",
   "execution_count": 28,
   "metadata": {},
   "outputs": [
    {
     "data": {
      "text/plain": [
       "['AVError',\n",
       " 'AudioFifo',\n",
       " 'AudioFormat',\n",
       " 'AudioFrame',\n",
       " 'AudioLayout',\n",
       " 'AudioResampler',\n",
       " 'BSFNotFoundError',\n",
       " 'BlockingIOError',\n",
       " 'BrokenPipeError',\n",
       " 'BufferTooSmallError',\n",
       " 'BugError',\n",
       " 'ChildProcessError',\n",
       " 'Codec',\n",
       " 'CodecContext',\n",
       " 'ConnectionAbortedError',\n",
       " 'ConnectionRefusedError',\n",
       " 'ConnectionResetError',\n",
       " 'ContainerFormat',\n",
       " 'DecoderNotFoundError',\n",
       " 'DemuxerNotFoundError',\n",
       " 'EOFError',\n",
       " 'EncoderNotFoundError',\n",
       " 'ErrorType',\n",
       " 'ExitError',\n",
       " 'ExperimentalError',\n",
       " 'ExternalError',\n",
       " 'FFmpegError',\n",
       " 'FileExistsError',\n",
       " 'FileNotFoundError',\n",
       " 'FilterNotFoundError',\n",
       " 'HTTPBadRequestError',\n",
       " 'HTTPClientError',\n",
       " 'HTTPError',\n",
       " 'HTTPForbiddenError',\n",
       " 'HTTPNotFoundError',\n",
       " 'HTTPOtherClientError',\n",
       " 'HTTPServerError',\n",
       " 'HTTPUnauthorizedError',\n",
       " 'InputChangedError',\n",
       " 'InterruptedError',\n",
       " 'InvalidDataError',\n",
       " 'IsADirectoryError',\n",
       " 'LookupError',\n",
       " 'MemoryError',\n",
       " 'MuxerNotFoundError',\n",
       " 'NotADirectoryError',\n",
       " 'NotImplementedError',\n",
       " 'OSError',\n",
       " 'OptionNotFoundError',\n",
       " 'OutputChangedError',\n",
       " 'OverflowError',\n",
       " 'Packet',\n",
       " 'PatchWelcomeError',\n",
       " 'PermissionError',\n",
       " 'ProcessLookupError',\n",
       " 'ProtocolNotFoundError',\n",
       " 'PyAVCallbackError',\n",
       " 'TimeoutError',\n",
       " 'UndefinedError',\n",
       " 'UnknownError',\n",
       " 'ValueError',\n",
       " 'VideoFormat',\n",
       " 'VideoFrame',\n",
       " '__builtins__',\n",
       " '__cached__',\n",
       " '__doc__',\n",
       " '__file__',\n",
       " '__loader__',\n",
       " '__name__',\n",
       " '__package__',\n",
       " '__path__',\n",
       " '__spec__',\n",
       " '__version__',\n",
       " '_core',\n",
       " 'about',\n",
       " 'audio',\n",
       " 'buffer',\n",
       " 'bytesource',\n",
       " 'codec',\n",
       " 'codecs_available',\n",
       " 'container',\n",
       " 'data',\n",
       " 'deprecation',\n",
       " 'descriptor',\n",
       " 'dictionary',\n",
       " 'enum',\n",
       " 'error',\n",
       " 'filter',\n",
       " 'format',\n",
       " 'formats_available',\n",
       " 'frame',\n",
       " 'library_versions',\n",
       " 'logging',\n",
       " 'open',\n",
       " 'option',\n",
       " 'os',\n",
       " 'packet',\n",
       " 'plane',\n",
       " 'sidedata',\n",
       " 'stream',\n",
       " 'sys',\n",
       " 'time_base',\n",
       " 'utils',\n",
       " 'video']"
      ]
     },
     "execution_count": 28,
     "metadata": {},
     "output_type": "execute_result"
    }
   ],
   "source": [
    "dir(av)"
   ]
  },
  {
   "cell_type": "code",
   "execution_count": null,
   "metadata": {},
   "outputs": [],
   "source": [
    "def transcode_video_stream(stream):\n",
    "    assert stream.type == 'video'\n",
    "    new_stream = a"
   ]
  },
  {
   "cell_type": "code",
   "execution_count": 19,
   "metadata": {},
   "outputs": [],
   "source": [
    "container = av.open(\"./mov_bbb.mp4\")"
   ]
  },
  {
   "cell_type": "code",
   "execution_count": 27,
   "metadata": {},
   "outputs": [
    {
     "data": {
      "text/plain": [
       "<av.VideoFormat yuv420p, 320x176>"
      ]
     },
     "execution_count": 27,
     "metadata": {},
     "output_type": "execute_result"
    }
   ],
   "source": [
    "container.streams.video[0].format"
   ]
  },
  {
   "cell_type": "code",
   "execution_count": 26,
   "metadata": {},
   "outputs": [
    {
     "data": {
      "text/plain": [
       "['__class__',\n",
       " '__delattr__',\n",
       " '__dir__',\n",
       " '__doc__',\n",
       " '__eq__',\n",
       " '__format__',\n",
       " '__ge__',\n",
       " '__getattr__',\n",
       " '__getattribute__',\n",
       " '__getstate__',\n",
       " '__gt__',\n",
       " '__hash__',\n",
       " '__init__',\n",
       " '__init_subclass__',\n",
       " '__le__',\n",
       " '__lt__',\n",
       " '__ne__',\n",
       " '__new__',\n",
       " '__pyx_vtable__',\n",
       " '__reduce__',\n",
       " '__reduce_ex__',\n",
       " '__repr__',\n",
       " '__setattr__',\n",
       " '__setstate__',\n",
       " '__sizeof__',\n",
       " '__str__',\n",
       " '__subclasshook__',\n",
       " 'average_rate',\n",
       " 'base_rate',\n",
       " 'codec_context',\n",
       " 'container',\n",
       " 'decode',\n",
       " 'duration',\n",
       " 'encode',\n",
       " 'frames',\n",
       " 'guessed_rate',\n",
       " 'id',\n",
       " 'index',\n",
       " 'language',\n",
       " 'metadata',\n",
       " 'profile',\n",
       " 'start_time',\n",
       " 'time_base',\n",
       " 'type']"
      ]
     },
     "execution_count": 26,
     "metadata": {},
     "output_type": "execute_result"
    }
   ],
   "source": [
    "dir(container.streams.video[0])"
   ]
  },
  {
   "cell_type": "code",
   "execution_count": 20,
   "metadata": {},
   "outputs": [
    {
     "data": {
      "text/plain": [
       "<av.Packet of #0, dts=-7200, pts=0; 14820 bytes at 0x7f97b350b420>"
      ]
     },
     "execution_count": 20,
     "metadata": {},
     "output_type": "execute_result"
    }
   ],
   "source": [
    "next(container.demux(video=0))"
   ]
  },
  {
   "cell_type": "code",
   "execution_count": 16,
   "metadata": {},
   "outputs": [
    {
     "data": {
      "text/plain": [
       "375713"
      ]
     },
     "execution_count": 16,
     "metadata": {},
     "output_type": "execute_result"
    }
   ],
   "source": [
    "packets = [ bytes(p) for p in container.demux(video=0)]\n",
    "\n",
    "sum([len(p) for p in packets])"
   ]
  },
  {
   "cell_type": "code",
   "execution_count": 17,
   "metadata": {},
   "outputs": [],
   "source": [
    "for frame in container.decode(video=0):\n",
    "    frame.to_image().save('frame-%04d.jpg' % frame.index)"
   ]
  }
 ],
 "metadata": {
  "kernelspec": {
   "display_name": "streamtasks",
   "language": "python",
   "name": "python3"
  },
  "language_info": {
   "codemirror_mode": {
    "name": "ipython",
    "version": 3
   },
   "file_extension": ".py",
   "mimetype": "text/x-python",
   "name": "python",
   "nbconvert_exporter": "python",
   "pygments_lexer": "ipython3",
   "version": "3.11.0"
  },
  "orig_nbformat": 4
 },
 "nbformat": 4,
 "nbformat_minor": 2
}
