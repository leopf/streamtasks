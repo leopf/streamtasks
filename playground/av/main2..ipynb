{
 "cells": [
  {
   "cell_type": "code",
   "execution_count": 1,
   "metadata": {},
   "outputs": [],
   "source": [
    "%load_ext autoreload\n",
    "%autoreload 2"
   ]
  },
  {
   "cell_type": "code",
   "execution_count": 3,
   "metadata": {},
   "outputs": [],
   "source": [
    "from streamtasks.media import *"
   ]
  },
  {
   "cell_type": "code",
   "execution_count": 6,
   "metadata": {},
   "outputs": [
    {
     "data": {
      "text/plain": [
       "<av.VideoCodecContext video/libx264 at 0x7f62082a2840>"
      ]
     },
     "execution_count": 6,
     "metadata": {},
     "output_type": "execute_result"
    }
   ],
   "source": [
    "video_format = VideoCodecInfo(1920, 1080, 30)\n",
    "video_format.get_av_encoder()"
   ]
  },
  {
   "cell_type": "code",
   "execution_count": null,
   "metadata": {},
   "outputs": [
    {
     "data": {
      "text/plain": [
       "['__class__',\n",
       " '__delattr__',\n",
       " '__dir__',\n",
       " '__doc__',\n",
       " '__eq__',\n",
       " '__format__',\n",
       " '__ge__',\n",
       " '__getattribute__',\n",
       " '__getstate__',\n",
       " '__gt__',\n",
       " '__hash__',\n",
       " '__init__',\n",
       " '__init_subclass__',\n",
       " '__le__',\n",
       " '__lt__',\n",
       " '__ne__',\n",
       " '__new__',\n",
       " '__pyx_vtable__',\n",
       " '__reduce__',\n",
       " '__reduce_ex__',\n",
       " '__repr__',\n",
       " '__setattr__',\n",
       " '__setstate__',\n",
       " '__sizeof__',\n",
       " '__str__',\n",
       " '__subclasshook__',\n",
       " '_get_flags',\n",
       " '_get_flags2',\n",
       " '_set_flags',\n",
       " '_set_flags2',\n",
       " 'ac_pred',\n",
       " 'bit_rate',\n",
       " 'bit_rate_tolerance',\n",
       " 'bitexact',\n",
       " 'chunks',\n",
       " 'close',\n",
       " 'closed_gop',\n",
       " 'codec',\n",
       " 'codec_tag',\n",
       " 'coded_height',\n",
       " 'coded_width',\n",
       " 'create',\n",
       " 'decode',\n",
       " 'display_aspect_ratio',\n",
       " 'drop_changed',\n",
       " 'drop_frame_timecode',\n",
       " 'encode',\n",
       " 'encoded_frame_count',\n",
       " 'export_mvs',\n",
       " 'extradata',\n",
       " 'extradata_size',\n",
       " 'fast',\n",
       " 'flags',\n",
       " 'flags2',\n",
       " 'format',\n",
       " 'four_mv',\n",
       " 'framerate',\n",
       " 'global_header',\n",
       " 'gop_size',\n",
       " 'gray',\n",
       " 'has_b_frames',\n",
       " 'height',\n",
       " 'ignore_crop',\n",
       " 'interlaced_dct',\n",
       " 'interlaced_me',\n",
       " 'is_decoder',\n",
       " 'is_encoder',\n",
       " 'is_open',\n",
       " 'local_header',\n",
       " 'loop_filter',\n",
       " 'low_delay',\n",
       " 'max_bit_rate',\n",
       " 'name',\n",
       " 'no_output',\n",
       " 'open',\n",
       " 'options',\n",
       " 'output_corrupt',\n",
       " 'parse',\n",
       " 'pass1',\n",
       " 'pass2',\n",
       " 'pix_fmt',\n",
       " 'profile',\n",
       " 'psnr',\n",
       " 'qpel',\n",
       " 'qscale',\n",
       " 'rate',\n",
       " 'reformatter',\n",
       " 'ro_flush_noop',\n",
       " 'sample_aspect_ratio',\n",
       " 'show_all',\n",
       " 'skip_frame',\n",
       " 'skip_manual',\n",
       " 'thread_count',\n",
       " 'thread_type',\n",
       " 'ticks_per_frame',\n",
       " 'time_base',\n",
       " 'truncated',\n",
       " 'type',\n",
       " 'unaligned',\n",
       " 'width']"
      ]
     },
     "execution_count": 6,
     "metadata": {},
     "output_type": "execute_result"
    }
   ],
   "source": [
    "container = av.open(\"./mov_bbb.mp4\")\n",
    "dir(container.streams.video[0].codec_context)"
   ]
  },
  {
   "cell_type": "code",
   "execution_count": null,
   "metadata": {},
   "outputs": [
    {
     "data": {
      "text/plain": [
       "av.video.format.VideoFormat"
      ]
     },
     "execution_count": 7,
     "metadata": {},
     "output_type": "execute_result"
    }
   ],
   "source": [
    "av.video.format.VideoFormat"
   ]
  }
 ],
 "metadata": {
  "kernelspec": {
   "display_name": "streamtasks",
   "language": "python",
   "name": "python3"
  },
  "language_info": {
   "codemirror_mode": {
    "name": "ipython",
    "version": 3
   },
   "file_extension": ".py",
   "mimetype": "text/x-python",
   "name": "python",
   "nbconvert_exporter": "python",
   "pygments_lexer": "ipython3",
   "version": "3.11.0"
  },
  "orig_nbformat": 4
 },
 "nbformat": 4,
 "nbformat_minor": 2
}
